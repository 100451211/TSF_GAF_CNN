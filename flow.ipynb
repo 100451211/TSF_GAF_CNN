{
 "cells": [
  {
   "cell_type": "code",
   "execution_count": 5,
   "metadata": {},
   "outputs": [],
   "source": [
    "import pandas as pd\n",
    "\n",
    "from rico import RICOFullDataset, RICODataset"
   ]
  },
  {
   "cell_type": "code",
   "execution_count": 7,
   "metadata": {},
   "outputs": [],
   "source": [
    "df = pd.read_hdf('RICO1_Dataset.hdf', key='all')"
   ]
  },
  {
   "cell_type": "code",
   "execution_count": null,
   "metadata": {},
   "outputs": [],
   "source": [
    "full_dataset = RICOFullDataset(data=df,\n",
    "                               ori_seq_len=240,\n",
    "                               tgt_seq_len=240,\n",
    "                               stride=1,\n",
    "                               channels=['B.RTD1'], \n",
    "                               standardize=True)\n",
    "\n",
    "dataset = RICODataset(\n",
    "    full_dataset, \n",
    "    kind=\"full\", \n",
    "    get_every=10\n",
    ")"
   ]
  }
 ],
 "metadata": {
  "kernelspec": {
   "display_name": "torch",
   "language": "python",
   "name": "python3"
  },
  "language_info": {
   "codemirror_mode": {
    "name": "ipython",
    "version": 3
   },
   "file_extension": ".py",
   "mimetype": "text/x-python",
   "name": "python",
   "nbconvert_exporter": "python",
   "pygments_lexer": "ipython3",
   "version": "3.11.5"
  }
 },
 "nbformat": 4,
 "nbformat_minor": 2
}
